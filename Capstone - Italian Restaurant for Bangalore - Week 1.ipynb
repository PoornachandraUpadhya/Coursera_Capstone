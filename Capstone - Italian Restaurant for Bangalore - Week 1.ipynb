{
 "cells": [
  {
   "cell_type": "markdown",
   "metadata": {},
   "source": [
    "# Italian Restaurant for Bangalore - Week 1"
   ]
  },
  {
   "cell_type": "markdown",
   "metadata": {},
   "source": [
    "## Introduction / Business Problem"
   ]
  },
  {
   "cell_type": "markdown",
   "metadata": {},
   "source": [
    "<b>Audience:</b> My audience is a reputed Hotel group based out of Italy.<br>\n",
    "<br>\n",
    "The Italian Hotel Group is currently considering opening an Italian Restaurant in Bangalore, KA, India.  The group wants to find out suitable locations in Bangalore for establishing the restaurant.  It also wants to find out nearby restaurants that may offer competition to them with respect to Italian cuisine. In addition, the group would like to know the strengths of their main local competitor."
   ]
  },
  {
   "cell_type": "markdown",
   "metadata": {},
   "source": [
    "## Data Section"
   ]
  },
  {
   "cell_type": "markdown",
   "metadata": {},
   "source": [
    "I will be using two sources for the data:<br>\n",
    "<br>\n",
    "<b>1. Zomato:</b> Data obtained from Indian multinational restaurant aggregator and food delivery company Zomato.  Since Zomato has restricted API access recently, I will be using Zomato.csv obtained from the following link ‘https://www.kaggle.com/shrutimehta/zomato-restaurants-data?select=zomato.csv’.  This data would be used to identify top locations with restaurants within Bangalore.  We will also utilize K-Means clustering to plot the restaurant clusters.  Further, the top locations would be analyzed using bar plots and wordcloud to identify the location best suited for establishing Italian Restaurant and the current best Italian restaurant in the locality.<br>\n",
    "<br>\n",
    "<b>2. Foursquare:</b> Next, I will be using Foursquare data to identify the reasons why the current best Italian restaurant in the locality is best known for.  Some analysis will also be done on the Top tip contributor to further validate his/her credentials.  The Foursquare location data will also be used to identify any other competition in terms of Italian cuisine and plotted on a map using Folium."
   ]
  },
  {
   "cell_type": "code",
   "execution_count": null,
   "metadata": {},
   "outputs": [],
   "source": []
  }
 ],
 "metadata": {
  "kernelspec": {
   "display_name": "Python 3",
   "language": "python",
   "name": "python3"
  },
  "language_info": {
   "codemirror_mode": {
    "name": "ipython",
    "version": 3
   },
   "file_extension": ".py",
   "mimetype": "text/x-python",
   "name": "python",
   "nbconvert_exporter": "python",
   "pygments_lexer": "ipython3",
   "version": "3.7.0"
  }
 },
 "nbformat": 4,
 "nbformat_minor": 2
}
